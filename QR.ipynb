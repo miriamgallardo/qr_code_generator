{
  "nbformat": 4,
  "nbformat_minor": 0,
  "metadata": {
    "colab": {
      "provenance": []
    },
    "kernelspec": {
      "name": "python3",
      "display_name": "Python 3"
    },
    "language_info": {
      "name": "python"
    }
  },
  "cells": [
    {
      "cell_type": "code",
      "execution_count": null,
      "metadata": {
        "colab": {
          "base_uri": "https://localhost:8080/"
        },
        "id": "dnZRQnm3-jOk",
        "outputId": "a4c47570-15bd-4cfe-8513-45f83052f96e"
      },
      "outputs": [
        {
          "output_type": "stream",
          "name": "stdout",
          "text": [
            "Requirement already satisfied: qrcode in /usr/local/lib/python3.10/dist-packages (8.0)\n"
          ]
        }
      ],
      "source": [
        "pip install qrcode"
      ]
    },
    {
      "cell_type": "code",
      "source": [
        "import qrcode\n",
        "from PIL import Image"
      ],
      "metadata": {
        "id": "LvMPpPnr-ruJ"
      },
      "execution_count": null,
      "outputs": []
    },
    {
      "cell_type": "code",
      "source": [
        "# Define the website. If possible, use a shortened link.\n",
        "data = \"https://www.instagram.com/pfaecreasenverde/\"\n",
        "\n",
        "# Creare QR code\n",
        "qr = qrcode.QRCode(\n",
        "    version=1, # Size between 1 to 40. However, I do not recommend you change this parameter. Otherwise it will be\n",
        "    error_correction=qrcode.constants.ERROR_CORRECT_L,\n",
        "    box_size=10,\n",
        "    border=4,\n",
        ")\n",
        "\n",
        "# Add data to the QR\n",
        "\n",
        "qr.add_data(data)\n",
        "qr.make(fit=True)"
      ],
      "metadata": {
        "id": "iutYKKoT-t5N"
      },
      "execution_count": null,
      "outputs": []
    },
    {
      "cell_type": "code",
      "source": [
        "# Create the QR image\n",
        "\n",
        "img = qr.make_image(fill_color=\"black\", back_color=\"white\").convert(\"RGBA\")\n",
        "\n",
        "# Make the back color turn transparent\n",
        "\n",
        "datas = img.getdata()\n",
        "new_data = []\n",
        "for item in datas:\n",
        "    if item [:3] == (255, 255, 255):\n",
        "      new_data.append((255, 255, 255, 0))\n",
        "    else:\n",
        "      new_data.append(item)\n",
        "\n",
        "img.putdata(new_data)\n",
        "\n",
        "# Save QR\n",
        "\n",
        "img.save(\"qr_code.png\")\n",
        "\n",
        "print(\"QR created\")"
      ],
      "metadata": {
        "colab": {
          "base_uri": "https://localhost:8080/"
        },
        "id": "Nxt-oBBl_Z17",
        "outputId": "3b2d073c-e905-4750-d638-e618a9b109dc"
      },
      "execution_count": null,
      "outputs": [
        {
          "output_type": "stream",
          "name": "stdout",
          "text": [
            "Código QR descargado\n"
          ]
        }
      ]
    }
  ]
}